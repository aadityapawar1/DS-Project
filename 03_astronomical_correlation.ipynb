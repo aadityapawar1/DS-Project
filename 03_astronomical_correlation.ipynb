{
  "nbformat": 4,
  "nbformat_minor": 0,
  "metadata": {
    "colab": {
      "provenance": []
    },
    "kernelspec": {
      "name": "python3",
      "display_name": "Python 3"
    },
    "language_info": {
      "name": "python"
    }
  },
  "cells": [
    {
      "cell_type": "markdown",
      "source": [
        "### What We’re Doing in Notebook 3: Astronomical Event Correlation\n",
        "### 🛸 Hypothesis:\n",
        "UFO sightings might increase on dates with known astronomical phenomena, like meteor showers or eclipses.\n",
        "\n",
        "### ✅ Current Implementation:\n",
        "1. Load UFO sightings and group by day.\n",
        "\n",
        "2. Load astronomical events (e.g., meteor showers) with their exact dates.\n",
        "\n",
        "3. Flag each day as:\n",
        "\n",
        "astro_event = True if there's a known event that day\n",
        "\n",
        "False otherwise\n",
        "\n",
        "4. Compare sightings between those two groups:\n",
        "\n",
        "Boxplot\n",
        "\n",
        "Mean/median comparison\n"
      ],
      "metadata": {
        "id": "VSmy2sD53Jb8"
      }
    },
    {
      "cell_type": "code",
      "execution_count": 1,
      "metadata": {
        "colab": {
          "base_uri": "https://localhost:8080/",
          "height": 362
        },
        "id": "tN1SYr_G2xHY",
        "outputId": "bf7cb625-a394-4767-d90d-98a72cc207fa"
      },
      "outputs": [
        {
          "output_type": "stream",
          "name": "stdout",
          "text": [
            "Mounted at /content/drive\n"
          ]
        },
        {
          "output_type": "stream",
          "name": "stderr",
          "text": [
            "<ipython-input-1-18da18c9914b>:8: DtypeWarning: Columns (5,9) have mixed types. Specify dtype option on import or set low_memory=False.\n",
            "  df = pd.read_csv('/content/drive/MyDrive/UFO/scrubbed_data.csv')\n"
          ]
        },
        {
          "output_type": "execute_result",
          "data": {
            "text/plain": [
              "             datetime                  city state country     shape  \\\n",
              "0 1949-10-10 20:30:00            san marcos    tx      us  cylinder   \n",
              "1 1949-10-10 21:00:00          lackland afb    tx     NaN     light   \n",
              "2 1955-10-10 17:00:00  chester (uk/england)   NaN      gb    circle   \n",
              "3 1956-10-10 21:00:00                  edna    tx      us    circle   \n",
              "4 1960-10-10 20:00:00               kaneohe    hi      us     light   \n",
              "\n",
              "  duration (seconds) duration (hours/min)  \\\n",
              "0               2700           45 minutes   \n",
              "1               7200              1-2 hrs   \n",
              "2                 20           20 seconds   \n",
              "3                 20             1/2 hour   \n",
              "4                900           15 minutes   \n",
              "\n",
              "                                            comments date posted    latitude  \\\n",
              "0  This event took place in early fall around 194...   4/27/2004  29.8830556   \n",
              "1  1949 Lackland AFB&#44 TX.  Lights racing acros...  12/16/2005    29.38421   \n",
              "2  Green/Orange circular disc over Chester&#44 En...   1/21/2008        53.2   \n",
              "3  My older brother and twin sister were leaving ...   1/17/2004  28.9783333   \n",
              "4  AS a Marine 1st Lt. flying an FJ4B fighter/att...   1/22/2004  21.4180556   \n",
              "\n",
              "   longitude   \n",
              "0  -97.941111  \n",
              "1  -98.581082  \n",
              "2   -2.916667  \n",
              "3  -96.645833  \n",
              "4 -157.803611  "
            ],
            "text/html": [
              "\n",
              "  <div id=\"df-236d4c3c-8d5b-4387-9b61-b2e7a81e37e6\" class=\"colab-df-container\">\n",
              "    <div>\n",
              "<style scoped>\n",
              "    .dataframe tbody tr th:only-of-type {\n",
              "        vertical-align: middle;\n",
              "    }\n",
              "\n",
              "    .dataframe tbody tr th {\n",
              "        vertical-align: top;\n",
              "    }\n",
              "\n",
              "    .dataframe thead th {\n",
              "        text-align: right;\n",
              "    }\n",
              "</style>\n",
              "<table border=\"1\" class=\"dataframe\">\n",
              "  <thead>\n",
              "    <tr style=\"text-align: right;\">\n",
              "      <th></th>\n",
              "      <th>datetime</th>\n",
              "      <th>city</th>\n",
              "      <th>state</th>\n",
              "      <th>country</th>\n",
              "      <th>shape</th>\n",
              "      <th>duration (seconds)</th>\n",
              "      <th>duration (hours/min)</th>\n",
              "      <th>comments</th>\n",
              "      <th>date posted</th>\n",
              "      <th>latitude</th>\n",
              "      <th>longitude</th>\n",
              "    </tr>\n",
              "  </thead>\n",
              "  <tbody>\n",
              "    <tr>\n",
              "      <th>0</th>\n",
              "      <td>1949-10-10 20:30:00</td>\n",
              "      <td>san marcos</td>\n",
              "      <td>tx</td>\n",
              "      <td>us</td>\n",
              "      <td>cylinder</td>\n",
              "      <td>2700</td>\n",
              "      <td>45 minutes</td>\n",
              "      <td>This event took place in early fall around 194...</td>\n",
              "      <td>4/27/2004</td>\n",
              "      <td>29.8830556</td>\n",
              "      <td>-97.941111</td>\n",
              "    </tr>\n",
              "    <tr>\n",
              "      <th>1</th>\n",
              "      <td>1949-10-10 21:00:00</td>\n",
              "      <td>lackland afb</td>\n",
              "      <td>tx</td>\n",
              "      <td>NaN</td>\n",
              "      <td>light</td>\n",
              "      <td>7200</td>\n",
              "      <td>1-2 hrs</td>\n",
              "      <td>1949 Lackland AFB&amp;#44 TX.  Lights racing acros...</td>\n",
              "      <td>12/16/2005</td>\n",
              "      <td>29.38421</td>\n",
              "      <td>-98.581082</td>\n",
              "    </tr>\n",
              "    <tr>\n",
              "      <th>2</th>\n",
              "      <td>1955-10-10 17:00:00</td>\n",
              "      <td>chester (uk/england)</td>\n",
              "      <td>NaN</td>\n",
              "      <td>gb</td>\n",
              "      <td>circle</td>\n",
              "      <td>20</td>\n",
              "      <td>20 seconds</td>\n",
              "      <td>Green/Orange circular disc over Chester&amp;#44 En...</td>\n",
              "      <td>1/21/2008</td>\n",
              "      <td>53.2</td>\n",
              "      <td>-2.916667</td>\n",
              "    </tr>\n",
              "    <tr>\n",
              "      <th>3</th>\n",
              "      <td>1956-10-10 21:00:00</td>\n",
              "      <td>edna</td>\n",
              "      <td>tx</td>\n",
              "      <td>us</td>\n",
              "      <td>circle</td>\n",
              "      <td>20</td>\n",
              "      <td>1/2 hour</td>\n",
              "      <td>My older brother and twin sister were leaving ...</td>\n",
              "      <td>1/17/2004</td>\n",
              "      <td>28.9783333</td>\n",
              "      <td>-96.645833</td>\n",
              "    </tr>\n",
              "    <tr>\n",
              "      <th>4</th>\n",
              "      <td>1960-10-10 20:00:00</td>\n",
              "      <td>kaneohe</td>\n",
              "      <td>hi</td>\n",
              "      <td>us</td>\n",
              "      <td>light</td>\n",
              "      <td>900</td>\n",
              "      <td>15 minutes</td>\n",
              "      <td>AS a Marine 1st Lt. flying an FJ4B fighter/att...</td>\n",
              "      <td>1/22/2004</td>\n",
              "      <td>21.4180556</td>\n",
              "      <td>-157.803611</td>\n",
              "    </tr>\n",
              "  </tbody>\n",
              "</table>\n",
              "</div>\n",
              "    <div class=\"colab-df-buttons\">\n",
              "\n",
              "  <div class=\"colab-df-container\">\n",
              "    <button class=\"colab-df-convert\" onclick=\"convertToInteractive('df-236d4c3c-8d5b-4387-9b61-b2e7a81e37e6')\"\n",
              "            title=\"Convert this dataframe to an interactive table.\"\n",
              "            style=\"display:none;\">\n",
              "\n",
              "  <svg xmlns=\"http://www.w3.org/2000/svg\" height=\"24px\" viewBox=\"0 -960 960 960\">\n",
              "    <path d=\"M120-120v-720h720v720H120Zm60-500h600v-160H180v160Zm220 220h160v-160H400v160Zm0 220h160v-160H400v160ZM180-400h160v-160H180v160Zm440 0h160v-160H620v160ZM180-180h160v-160H180v160Zm440 0h160v-160H620v160Z\"/>\n",
              "  </svg>\n",
              "    </button>\n",
              "\n",
              "  <style>\n",
              "    .colab-df-container {\n",
              "      display:flex;\n",
              "      gap: 12px;\n",
              "    }\n",
              "\n",
              "    .colab-df-convert {\n",
              "      background-color: #E8F0FE;\n",
              "      border: none;\n",
              "      border-radius: 50%;\n",
              "      cursor: pointer;\n",
              "      display: none;\n",
              "      fill: #1967D2;\n",
              "      height: 32px;\n",
              "      padding: 0 0 0 0;\n",
              "      width: 32px;\n",
              "    }\n",
              "\n",
              "    .colab-df-convert:hover {\n",
              "      background-color: #E2EBFA;\n",
              "      box-shadow: 0px 1px 2px rgba(60, 64, 67, 0.3), 0px 1px 3px 1px rgba(60, 64, 67, 0.15);\n",
              "      fill: #174EA6;\n",
              "    }\n",
              "\n",
              "    .colab-df-buttons div {\n",
              "      margin-bottom: 4px;\n",
              "    }\n",
              "\n",
              "    [theme=dark] .colab-df-convert {\n",
              "      background-color: #3B4455;\n",
              "      fill: #D2E3FC;\n",
              "    }\n",
              "\n",
              "    [theme=dark] .colab-df-convert:hover {\n",
              "      background-color: #434B5C;\n",
              "      box-shadow: 0px 1px 3px 1px rgba(0, 0, 0, 0.15);\n",
              "      filter: drop-shadow(0px 1px 2px rgba(0, 0, 0, 0.3));\n",
              "      fill: #FFFFFF;\n",
              "    }\n",
              "  </style>\n",
              "\n",
              "    <script>\n",
              "      const buttonEl =\n",
              "        document.querySelector('#df-236d4c3c-8d5b-4387-9b61-b2e7a81e37e6 button.colab-df-convert');\n",
              "      buttonEl.style.display =\n",
              "        google.colab.kernel.accessAllowed ? 'block' : 'none';\n",
              "\n",
              "      async function convertToInteractive(key) {\n",
              "        const element = document.querySelector('#df-236d4c3c-8d5b-4387-9b61-b2e7a81e37e6');\n",
              "        const dataTable =\n",
              "          await google.colab.kernel.invokeFunction('convertToInteractive',\n",
              "                                                    [key], {});\n",
              "        if (!dataTable) return;\n",
              "\n",
              "        const docLinkHtml = 'Like what you see? Visit the ' +\n",
              "          '<a target=\"_blank\" href=https://colab.research.google.com/notebooks/data_table.ipynb>data table notebook</a>'\n",
              "          + ' to learn more about interactive tables.';\n",
              "        element.innerHTML = '';\n",
              "        dataTable['output_type'] = 'display_data';\n",
              "        await google.colab.output.renderOutput(dataTable, element);\n",
              "        const docLink = document.createElement('div');\n",
              "        docLink.innerHTML = docLinkHtml;\n",
              "        element.appendChild(docLink);\n",
              "      }\n",
              "    </script>\n",
              "  </div>\n",
              "\n",
              "\n",
              "<div id=\"df-e5b20d86-e46a-48b6-9bc3-306da9ac4d16\">\n",
              "  <button class=\"colab-df-quickchart\" onclick=\"quickchart('df-e5b20d86-e46a-48b6-9bc3-306da9ac4d16')\"\n",
              "            title=\"Suggest charts\"\n",
              "            style=\"display:none;\">\n",
              "\n",
              "<svg xmlns=\"http://www.w3.org/2000/svg\" height=\"24px\"viewBox=\"0 0 24 24\"\n",
              "     width=\"24px\">\n",
              "    <g>\n",
              "        <path d=\"M19 3H5c-1.1 0-2 .9-2 2v14c0 1.1.9 2 2 2h14c1.1 0 2-.9 2-2V5c0-1.1-.9-2-2-2zM9 17H7v-7h2v7zm4 0h-2V7h2v10zm4 0h-2v-4h2v4z\"/>\n",
              "    </g>\n",
              "</svg>\n",
              "  </button>\n",
              "\n",
              "<style>\n",
              "  .colab-df-quickchart {\n",
              "      --bg-color: #E8F0FE;\n",
              "      --fill-color: #1967D2;\n",
              "      --hover-bg-color: #E2EBFA;\n",
              "      --hover-fill-color: #174EA6;\n",
              "      --disabled-fill-color: #AAA;\n",
              "      --disabled-bg-color: #DDD;\n",
              "  }\n",
              "\n",
              "  [theme=dark] .colab-df-quickchart {\n",
              "      --bg-color: #3B4455;\n",
              "      --fill-color: #D2E3FC;\n",
              "      --hover-bg-color: #434B5C;\n",
              "      --hover-fill-color: #FFFFFF;\n",
              "      --disabled-bg-color: #3B4455;\n",
              "      --disabled-fill-color: #666;\n",
              "  }\n",
              "\n",
              "  .colab-df-quickchart {\n",
              "    background-color: var(--bg-color);\n",
              "    border: none;\n",
              "    border-radius: 50%;\n",
              "    cursor: pointer;\n",
              "    display: none;\n",
              "    fill: var(--fill-color);\n",
              "    height: 32px;\n",
              "    padding: 0;\n",
              "    width: 32px;\n",
              "  }\n",
              "\n",
              "  .colab-df-quickchart:hover {\n",
              "    background-color: var(--hover-bg-color);\n",
              "    box-shadow: 0 1px 2px rgba(60, 64, 67, 0.3), 0 1px 3px 1px rgba(60, 64, 67, 0.15);\n",
              "    fill: var(--button-hover-fill-color);\n",
              "  }\n",
              "\n",
              "  .colab-df-quickchart-complete:disabled,\n",
              "  .colab-df-quickchart-complete:disabled:hover {\n",
              "    background-color: var(--disabled-bg-color);\n",
              "    fill: var(--disabled-fill-color);\n",
              "    box-shadow: none;\n",
              "  }\n",
              "\n",
              "  .colab-df-spinner {\n",
              "    border: 2px solid var(--fill-color);\n",
              "    border-color: transparent;\n",
              "    border-bottom-color: var(--fill-color);\n",
              "    animation:\n",
              "      spin 1s steps(1) infinite;\n",
              "  }\n",
              "\n",
              "  @keyframes spin {\n",
              "    0% {\n",
              "      border-color: transparent;\n",
              "      border-bottom-color: var(--fill-color);\n",
              "      border-left-color: var(--fill-color);\n",
              "    }\n",
              "    20% {\n",
              "      border-color: transparent;\n",
              "      border-left-color: var(--fill-color);\n",
              "      border-top-color: var(--fill-color);\n",
              "    }\n",
              "    30% {\n",
              "      border-color: transparent;\n",
              "      border-left-color: var(--fill-color);\n",
              "      border-top-color: var(--fill-color);\n",
              "      border-right-color: var(--fill-color);\n",
              "    }\n",
              "    40% {\n",
              "      border-color: transparent;\n",
              "      border-right-color: var(--fill-color);\n",
              "      border-top-color: var(--fill-color);\n",
              "    }\n",
              "    60% {\n",
              "      border-color: transparent;\n",
              "      border-right-color: var(--fill-color);\n",
              "    }\n",
              "    80% {\n",
              "      border-color: transparent;\n",
              "      border-right-color: var(--fill-color);\n",
              "      border-bottom-color: var(--fill-color);\n",
              "    }\n",
              "    90% {\n",
              "      border-color: transparent;\n",
              "      border-bottom-color: var(--fill-color);\n",
              "    }\n",
              "  }\n",
              "</style>\n",
              "\n",
              "  <script>\n",
              "    async function quickchart(key) {\n",
              "      const quickchartButtonEl =\n",
              "        document.querySelector('#' + key + ' button');\n",
              "      quickchartButtonEl.disabled = true;  // To prevent multiple clicks.\n",
              "      quickchartButtonEl.classList.add('colab-df-spinner');\n",
              "      try {\n",
              "        const charts = await google.colab.kernel.invokeFunction(\n",
              "            'suggestCharts', [key], {});\n",
              "      } catch (error) {\n",
              "        console.error('Error during call to suggestCharts:', error);\n",
              "      }\n",
              "      quickchartButtonEl.classList.remove('colab-df-spinner');\n",
              "      quickchartButtonEl.classList.add('colab-df-quickchart-complete');\n",
              "    }\n",
              "    (() => {\n",
              "      let quickchartButtonEl =\n",
              "        document.querySelector('#df-e5b20d86-e46a-48b6-9bc3-306da9ac4d16 button');\n",
              "      quickchartButtonEl.style.display =\n",
              "        google.colab.kernel.accessAllowed ? 'block' : 'none';\n",
              "    })();\n",
              "  </script>\n",
              "</div>\n",
              "\n",
              "    </div>\n",
              "  </div>\n"
            ],
            "application/vnd.google.colaboratory.intrinsic+json": {
              "type": "dataframe",
              "variable_name": "df",
              "summary": "{\n  \"name\": \"df\",\n  \"rows\": 79638,\n  \"fields\": [\n    {\n      \"column\": \"datetime\",\n      \"properties\": {\n        \"dtype\": \"date\",\n        \"min\": \"1906-11-11 00:00:00\",\n        \"max\": \"2014-05-08 18:45:00\",\n        \"num_unique_values\": 68955,\n        \"samples\": [\n          \"2012-08-25 23:00:00\",\n          \"2013-10-24 09:30:00\",\n          \"2008-02-11 04:00:00\"\n        ],\n        \"semantic_type\": \"\",\n        \"description\": \"\"\n      }\n    },\n    {\n      \"column\": \"city\",\n      \"properties\": {\n        \"dtype\": \"category\",\n        \"num_unique_values\": 19728,\n        \"samples\": [\n          \"lewisville lake (se) (north of dallas)\",\n          \"over many\",\n          \"san felipe&#44 baja de california (mexico)\"\n        ],\n        \"semantic_type\": \"\",\n        \"description\": \"\"\n      }\n    },\n    {\n      \"column\": \"state\",\n      \"properties\": {\n        \"dtype\": \"category\",\n        \"num_unique_values\": 67,\n        \"samples\": [\n          \"va\",\n          \"co\",\n          \"al\"\n        ],\n        \"semantic_type\": \"\",\n        \"description\": \"\"\n      }\n    },\n    {\n      \"column\": \"country\",\n      \"properties\": {\n        \"dtype\": \"category\",\n        \"num_unique_values\": 5,\n        \"samples\": [\n          \"gb\",\n          \"de\",\n          \"ca\"\n        ],\n        \"semantic_type\": \"\",\n        \"description\": \"\"\n      }\n    },\n    {\n      \"column\": \"shape\",\n      \"properties\": {\n        \"dtype\": \"category\",\n        \"num_unique_values\": 28,\n        \"samples\": [\n          \"cigar\",\n          \"flare\",\n          \"other\"\n        ],\n        \"semantic_type\": \"\",\n        \"description\": \"\"\n      }\n    },\n    {\n      \"column\": \"duration (seconds)\",\n      \"properties\": {\n        \"dtype\": \"category\",\n        \"num_unique_values\": 695,\n        \"samples\": [\n          \"265\",\n          24.0,\n          \"1233\"\n        ],\n        \"semantic_type\": \"\",\n        \"description\": \"\"\n      }\n    },\n    {\n      \"column\": \"duration (hours/min)\",\n      \"properties\": {\n        \"dtype\": \"category\",\n        \"num_unique_values\": 8265,\n        \"samples\": [\n          \"at least 3 hours\",\n          \"3 minute (x2)\",\n          \"one min.\"\n        ],\n        \"semantic_type\": \"\",\n        \"description\": \"\"\n      }\n    },\n    {\n      \"column\": \"comments\",\n      \"properties\": {\n        \"dtype\": \"string\",\n        \"num_unique_values\": 79308,\n        \"samples\": [\n          \"It was a clear sky evening&#44 when I was walking outside. Humidity was very low (30%) and the temperature was 17&#39C if this is helpfull&#44 w\",\n          \"Saucer with lights&#44 did not appear to be moving fast.\",\n          \"Extremely fast blue/green light\"\n        ],\n        \"semantic_type\": \"\",\n        \"description\": \"\"\n      }\n    },\n    {\n      \"column\": \"date posted\",\n      \"properties\": {\n        \"dtype\": \"object\",\n        \"num_unique_values\": 317,\n        \"samples\": [\n          \"5/15/2006\",\n          \"7/29/2010\",\n          \"3/17/2004\"\n        ],\n        \"semantic_type\": \"\",\n        \"description\": \"\"\n      }\n    },\n    {\n      \"column\": \"latitude\",\n      \"properties\": {\n        \"dtype\": \"category\",\n        \"num_unique_values\": 23175,\n        \"samples\": [\n          \"42.5758333\",\n          \"42.7647222\",\n          29.0297222\n        ],\n        \"semantic_type\": \"\",\n        \"description\": \"\"\n      }\n    },\n    {\n      \"column\": \"longitude \",\n      \"properties\": {\n        \"dtype\": \"number\",\n        \"std\": 39.57701910538338,\n        \"min\": -173.985008,\n        \"max\": 178.4419,\n        \"num_unique_values\": 19338,\n        \"samples\": [\n          -74.13181,\n          -97.9905556,\n          -81.531193\n        ],\n        \"semantic_type\": \"\",\n        \"description\": \"\"\n      }\n    }\n  ]\n}"
            }
          },
          "metadata": {},
          "execution_count": 1
        }
      ],
      "source": [
        "# Mount Google Drive\n",
        "from google.colab import drive\n",
        "drive.mount('/content/drive')\n",
        "\n",
        "# Load the UFO dataset\n",
        "import pandas as pd\n",
        "\n",
        "df = pd.read_csv('/content/drive/MyDrive/UFO/scrubbed_data.csv')\n",
        "df['datetime'] = pd.to_datetime(df['datetime'], errors='coerce')\n",
        "df = df.dropna(subset=['datetime'])\n",
        "df.head()"
      ]
    },
    {
      "cell_type": "code",
      "source": [
        "# # Load astronomical events data (e.g., meteor showers)\n",
        "# # Assumes file is already uploaded to Drive manually\n",
        "# astro_df = pd.read_csv('/content/drive/MyDrive/UFO/meteor_showers.csv')\n",
        "# astro_df['date'] = pd.to_datetime(astro_df['date'], errors='coerce')\n",
        "# astro_df = astro_df.dropna(subset=['date'])\n",
        "# astro_df.head()"
      ],
      "metadata": {
        "id": "xzc4kgqA4LC6"
      },
      "execution_count": 9,
      "outputs": []
    },
    {
      "cell_type": "code",
      "source": [
        "# Create recurring meteor shower dates from 1900 to 2024\n",
        "shower_days = {\n",
        "    'Quadrantids': '01-03',\n",
        "    'Lyrids': '04-22',\n",
        "    'Eta Aquariids': '05-06',\n",
        "    'Delta Aquariids': '07-30',\n",
        "    'Perseids': '08-12',\n",
        "    'Orionids': '10-21',\n",
        "    'Leonids': '11-17',\n",
        "    'Geminids': '12-14',\n",
        "    'Ursids': '12-22'\n",
        "}\n",
        "\n",
        "# Generate dates for all years in the dataset\n",
        "years = pd.date_range(df['datetime'].min(), df['datetime'].max(), freq='Y').year\n",
        "meteor_dates = []\n",
        "for year in years:\n",
        "    for name, mmdd in shower_days.items():\n",
        "        try:\n",
        "            meteor_dates.append({'name': name, 'date': pd.to_datetime(f\"{year}-{mmdd}\")})\n",
        "        except:\n",
        "            continue\n",
        "\n",
        "astro_df = pd.DataFrame(meteor_dates)\n"
      ],
      "metadata": {
        "colab": {
          "base_uri": "https://localhost:8080/"
        },
        "id": "AWHUhzopEAdj",
        "outputId": "7df8f441-779e-44fe-c034-a59f4388509b"
      },
      "execution_count": 10,
      "outputs": [
        {
          "output_type": "stream",
          "name": "stderr",
          "text": [
            "<ipython-input-10-6461affdaea0>:15: FutureWarning: 'Y' is deprecated and will be removed in a future version, please use 'YE' instead.\n",
            "  years = pd.date_range(df['datetime'].min(), df['datetime'].max(), freq='Y').year\n"
          ]
        }
      ]
    },
    {
      "cell_type": "code",
      "source": [
        "# Extract UFO sighting counts per day\n",
        "daily_sightings = df['datetime'].dt.floor('d').value_counts().sort_index()\n",
        "daily_df = daily_sightings.reset_index()\n",
        "daily_df.columns = ['date', 'sightings']\n",
        "\n",
        "# Merge with astronomical data to flag event days\n",
        "daily_df['astro_event'] = daily_df['date'].isin(astro_df['date'])"
      ],
      "metadata": {
        "id": "4p7xcNde4M7R"
      },
      "execution_count": 11,
      "outputs": []
    },
    {
      "cell_type": "code",
      "source": [
        "# Compare average sightings on event vs non-event days\n",
        "import matplotlib.pyplot as plt\n",
        "import seaborn as sns\n",
        "\n",
        "plt.figure(figsize=(8, 5))\n",
        "sns.boxplot(data=daily_df, x='astro_event', y='sightings', palette='coolwarm')\n",
        "plt.xticks([0, 1], ['No Astronomical Event', 'Astronomical Event'])\n",
        "plt.title('Comparison of UFO Sightings on Astronomical vs Non-Astronomical Days')\n",
        "plt.xlabel('Astronomical Event')\n",
        "plt.ylabel('Number of Sightings')\n",
        "plt.tight_layout()\n",
        "plt.show()"
      ],
      "metadata": {
        "colab": {
          "base_uri": "https://localhost:8080/",
          "height": 614
        },
        "id": "lqkx06aI4OkD",
        "outputId": "2fe2afcd-cbe3-47b8-8ce6-525dfc7839e4"
      },
      "execution_count": 12,
      "outputs": [
        {
          "output_type": "stream",
          "name": "stderr",
          "text": [
            "<ipython-input-12-3dd69562d424>:6: FutureWarning: \n",
            "\n",
            "Passing `palette` without assigning `hue` is deprecated and will be removed in v0.14.0. Assign the `x` variable to `hue` and set `legend=False` for the same effect.\n",
            "\n",
            "  sns.boxplot(data=daily_df, x='astro_event', y='sightings', palette='coolwarm')\n"
          ]
        },
        {
          "output_type": "display_data",
          "data": {
            "text/plain": [
              "<Figure size 800x500 with 1 Axes>"
            ],
            "image/png": "[encoded data removed]"
          },
          "metadata": {}
        }
      ]
    },
    {
      "cell_type": "code",
      "source": [
        "# Optional: Print statistical summary\n",
        "print(\"\\nAverage sightings:\")\n",
        "print(daily_df.groupby('astro_event')['sightings'].describe())"
      ],
      "metadata": {
        "colab": {
          "base_uri": "https://localhost:8080/"
        },
        "id": "QNMhzQB14Qbx",
        "outputId": "5126b80a-f19e-48e6-81b1-a0bd3e2b33d0"
      },
      "execution_count": 13,
      "outputs": [
        {
          "output_type": "stream",
          "name": "stdout",
          "text": [
            "\n",
            "Average sightings:\n",
            "               count      mean       std  min  25%  50%   75%    max\n",
            "astro_event                                                         \n",
            "False        10248.0  7.591530  8.734619  1.0  1.0  5.0  11.0  201.0\n",
            "True           239.0  7.698745  7.939453  1.0  1.5  5.0  11.0   43.0\n"
          ]
        }
      ]
    },
    {
      "cell_type": "markdown",
      "source": [
        "## Time Lag Correlation\n",
        "Do people report UFOs more 1 day before or after meteor showers?"
      ],
      "metadata": {
        "id": "YT0rC0DT4Qz3"
      }
    },
    {
      "cell_type": "code",
      "source": [
        "# Create set of astronomical event dates and surrounding days\n",
        "from datetime import timedelta\n",
        "\n",
        "astro_days = set(astro_df['date'])\n",
        "expanded_event_days = set()\n",
        "for d in astro_days:\n",
        "    for offset in [-1, 0, 1]:\n",
        "        expanded_event_days.add(d + timedelta(days=offset))\n",
        "\n",
        "# Tag each UFO sighting as within +/-1 day of an astronomical event\n",
        "df['event_window'] = df['datetime'].dt.floor('d').isin(expanded_event_days)\n",
        "\n",
        "# Aggregate daily sightings and event flag\n",
        "daily_sightings = df.groupby(df['datetime'].dt.floor('d')).size().reset_index(name='sightings')\n",
        "daily_sightings['event_window'] = daily_sightings['datetime'].isin(expanded_event_days)\n"
      ],
      "metadata": {
        "id": "pnsajMOR4UKs"
      },
      "execution_count": 14,
      "outputs": []
    },
    {
      "cell_type": "code",
      "source": [
        "# Visualization: Boxplot of sightings +/- 1 day from events\n",
        "import matplotlib.pyplot as plt\n",
        "import seaborn as sns\n",
        "\n",
        "plt.figure(figsize=(8, 5))\n",
        "sns.boxplot(data=daily_sightings, x='event_window', y='sightings', palette='coolwarm')\n",
        "plt.xticks([0, 1], ['No Event ±1 Day', 'Event ±1 Day'])\n",
        "plt.title('UFO Sightings ±1 Day Around Astronomical Events')\n",
        "plt.xlabel('Within ±1 Day of Astronomical Event')\n",
        "plt.ylabel('Number of Sightings')\n",
        "plt.tight_layout()\n",
        "plt.show()"
      ],
      "metadata": {
        "colab": {
          "base_uri": "https://localhost:8080/",
          "height": 614
        },
        "id": "BBYXjw3t4czm",
        "outputId": "cf92d1b8-988d-4b1e-ed08-3a8dd7dc6087"
      },
      "execution_count": 15,
      "outputs": [
        {
          "output_type": "stream",
          "name": "stderr",
          "text": [
            "<ipython-input-15-04e6cf7ed67e>:6: FutureWarning: \n",
            "\n",
            "Passing `palette` without assigning `hue` is deprecated and will be removed in v0.14.0. Assign the `x` variable to `hue` and set `legend=False` for the same effect.\n",
            "\n",
            "  sns.boxplot(data=daily_sightings, x='event_window', y='sightings', palette='coolwarm')\n"
          ]
        },
        {
          "output_type": "display_data",
          "data": {
            "text/plain": [
              "<Figure size 800x500 with 1 Axes>"
            ],
            "image/png": "[encoded data removed]"
          },
          "metadata": {}
        }
      ]
    },
    {
      "cell_type": "code",
      "source": [
        "# Statistical summary\n",
        "print(\"\\nAverage sightings within ±1 day of event vs other days:\")\n",
        "print(daily_sightings.groupby('event_window')['sightings'].describe())"
      ],
      "metadata": {
        "colab": {
          "base_uri": "https://localhost:8080/"
        },
        "id": "DwfzvC-U4sCp",
        "outputId": "8ae2df43-4cd7-40e9-872c-c672d7401bac"
      },
      "execution_count": 16,
      "outputs": [
        {
          "output_type": "stream",
          "name": "stdout",
          "text": [
            "\n",
            "Average sightings within ±1 day of event vs other days:\n",
            "               count      mean       std  min  25%  50%   75%    max\n",
            "event_window                                                        \n",
            "False         9750.0  7.579487  8.617074  1.0  1.0  5.0  11.0  201.0\n",
            "True           737.0  7.785617  9.949200  1.0  1.0  5.0  11.0  180.0\n"
          ]
        }
      ]
    }
  ]
}